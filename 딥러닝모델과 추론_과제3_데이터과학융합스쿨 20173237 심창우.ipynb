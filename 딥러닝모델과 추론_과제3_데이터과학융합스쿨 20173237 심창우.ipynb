{
 "cells": [
  {
   "cell_type": "markdown",
   "metadata": {},
   "source": [
    "# 딥러닝모델과 추론 - 과제 3\n",
    "## 데이터과학융합스쿨 20173237 심창우"
   ]
  },
  {
   "cell_type": "code",
   "execution_count": 1,
   "metadata": {},
   "outputs": [],
   "source": [
    "import pandas as pd"
   ]
  },
  {
   "cell_type": "markdown",
   "metadata": {},
   "source": [
    "---\n",
    "**CSV 파일 불러오기**"
   ]
  },
  {
   "cell_type": "code",
   "execution_count": 2,
   "metadata": {},
   "outputs": [],
   "source": [
    "dat1 = pd.read_csv(\"Downloads/test.csv\")"
   ]
  },
  {
   "cell_type": "markdown",
   "metadata": {},
   "source": [
    "**[문제 1]** 데이터를 불러와서 앞부분 10개의 데이터만 보이시오."
   ]
  },
  {
   "cell_type": "code",
   "execution_count": 3,
   "metadata": {},
   "outputs": [
    {
     "data": {
      "text/html": [
       "<div>\n",
       "<style scoped>\n",
       "    .dataframe tbody tr th:only-of-type {\n",
       "        vertical-align: middle;\n",
       "    }\n",
       "\n",
       "    .dataframe tbody tr th {\n",
       "        vertical-align: top;\n",
       "    }\n",
       "\n",
       "    .dataframe thead th {\n",
       "        text-align: right;\n",
       "    }\n",
       "</style>\n",
       "<table border=\"1\" class=\"dataframe\">\n",
       "  <thead>\n",
       "    <tr style=\"text-align: right;\">\n",
       "      <th></th>\n",
       "      <th>Sex</th>\n",
       "      <th>Age</th>\n",
       "      <th>Height</th>\n",
       "      <th>Weight</th>\n",
       "      <th>SBP</th>\n",
       "      <th>DBP</th>\n",
       "      <th>Sugar</th>\n",
       "      <th>Fat</th>\n",
       "      <th>Chol</th>\n",
       "      <th>DM</th>\n",
       "    </tr>\n",
       "  </thead>\n",
       "  <tbody>\n",
       "    <tr>\n",
       "      <th>0</th>\n",
       "      <td>F</td>\n",
       "      <td>26</td>\n",
       "      <td>156.6</td>\n",
       "      <td>43.7</td>\n",
       "      <td>100</td>\n",
       "      <td>70</td>\n",
       "      <td>83.5</td>\n",
       "      <td>123.0</td>\n",
       "      <td>187.9</td>\n",
       "      <td>N</td>\n",
       "    </tr>\n",
       "    <tr>\n",
       "      <th>1</th>\n",
       "      <td>M</td>\n",
       "      <td>30</td>\n",
       "      <td>175.5</td>\n",
       "      <td>93.3</td>\n",
       "      <td>120</td>\n",
       "      <td>70</td>\n",
       "      <td>83.6</td>\n",
       "      <td>73.9</td>\n",
       "      <td>145.5</td>\n",
       "      <td>N</td>\n",
       "    </tr>\n",
       "    <tr>\n",
       "      <th>2</th>\n",
       "      <td>F</td>\n",
       "      <td>22</td>\n",
       "      <td>161.4</td>\n",
       "      <td>61.9</td>\n",
       "      <td>110</td>\n",
       "      <td>70</td>\n",
       "      <td>86.4</td>\n",
       "      <td>56.3</td>\n",
       "      <td>226.0</td>\n",
       "      <td>N</td>\n",
       "    </tr>\n",
       "    <tr>\n",
       "      <th>3</th>\n",
       "      <td>F</td>\n",
       "      <td>46</td>\n",
       "      <td>164.0</td>\n",
       "      <td>68.0</td>\n",
       "      <td>100</td>\n",
       "      <td>60</td>\n",
       "      <td>86.5</td>\n",
       "      <td>162.3</td>\n",
       "      <td>146.0</td>\n",
       "      <td>N</td>\n",
       "    </tr>\n",
       "    <tr>\n",
       "      <th>4</th>\n",
       "      <td>M</td>\n",
       "      <td>41</td>\n",
       "      <td>163.6</td>\n",
       "      <td>72.2</td>\n",
       "      <td>100</td>\n",
       "      <td>70</td>\n",
       "      <td>86.7</td>\n",
       "      <td>132.5</td>\n",
       "      <td>164.1</td>\n",
       "      <td>N</td>\n",
       "    </tr>\n",
       "    <tr>\n",
       "      <th>5</th>\n",
       "      <td>M</td>\n",
       "      <td>28</td>\n",
       "      <td>181.5</td>\n",
       "      <td>79.7</td>\n",
       "      <td>130</td>\n",
       "      <td>90</td>\n",
       "      <td>86.9</td>\n",
       "      <td>142.5</td>\n",
       "      <td>144.1</td>\n",
       "      <td>N</td>\n",
       "    </tr>\n",
       "    <tr>\n",
       "      <th>6</th>\n",
       "      <td>M</td>\n",
       "      <td>53</td>\n",
       "      <td>164.6</td>\n",
       "      <td>59.4</td>\n",
       "      <td>110</td>\n",
       "      <td>70</td>\n",
       "      <td>87.4</td>\n",
       "      <td>213.0</td>\n",
       "      <td>229.4</td>\n",
       "      <td>N</td>\n",
       "    </tr>\n",
       "    <tr>\n",
       "      <th>7</th>\n",
       "      <td>M</td>\n",
       "      <td>60</td>\n",
       "      <td>169.3</td>\n",
       "      <td>66.2</td>\n",
       "      <td>130</td>\n",
       "      <td>90</td>\n",
       "      <td>88.0</td>\n",
       "      <td>106.1</td>\n",
       "      <td>183.0</td>\n",
       "      <td>N</td>\n",
       "    </tr>\n",
       "    <tr>\n",
       "      <th>8</th>\n",
       "      <td>M</td>\n",
       "      <td>32</td>\n",
       "      <td>163.9</td>\n",
       "      <td>63.8</td>\n",
       "      <td>110</td>\n",
       "      <td>70</td>\n",
       "      <td>88.1</td>\n",
       "      <td>105.1</td>\n",
       "      <td>164.8</td>\n",
       "      <td>N</td>\n",
       "    </tr>\n",
       "    <tr>\n",
       "      <th>9</th>\n",
       "      <td>M</td>\n",
       "      <td>34</td>\n",
       "      <td>172.2</td>\n",
       "      <td>69.6</td>\n",
       "      <td>110</td>\n",
       "      <td>80</td>\n",
       "      <td>88.1</td>\n",
       "      <td>222.2</td>\n",
       "      <td>151.9</td>\n",
       "      <td>N</td>\n",
       "    </tr>\n",
       "  </tbody>\n",
       "</table>\n",
       "</div>"
      ],
      "text/plain": [
       "  Sex  Age  Height  Weight  SBP  DBP  Sugar    Fat   Chol DM\n",
       "0   F   26   156.6    43.7  100   70   83.5  123.0  187.9  N\n",
       "1   M   30   175.5    93.3  120   70   83.6   73.9  145.5  N\n",
       "2   F   22   161.4    61.9  110   70   86.4   56.3  226.0  N\n",
       "3   F   46   164.0    68.0  100   60   86.5  162.3  146.0  N\n",
       "4   M   41   163.6    72.2  100   70   86.7  132.5  164.1  N\n",
       "5   M   28   181.5    79.7  130   90   86.9  142.5  144.1  N\n",
       "6   M   53   164.6    59.4  110   70   87.4  213.0  229.4  N\n",
       "7   M   60   169.3    66.2  130   90   88.0  106.1  183.0  N\n",
       "8   M   32   163.9    63.8  110   70   88.1  105.1  164.8  N\n",
       "9   M   34   172.2    69.6  110   80   88.1  222.2  151.9  N"
      ]
     },
     "execution_count": 3,
     "metadata": {},
     "output_type": "execute_result"
    }
   ],
   "source": [
    "dat1.head(10)"
   ]
  },
  {
   "cell_type": "markdown",
   "metadata": {},
   "source": [
    "**[문제 2]** 데이터의 차원을 구하시오."
   ]
  },
  {
   "cell_type": "code",
   "execution_count": 4,
   "metadata": {},
   "outputs": [
    {
     "data": {
      "text/plain": [
       "2"
      ]
     },
     "execution_count": 4,
     "metadata": {},
     "output_type": "execute_result"
    }
   ],
   "source": [
    "dat1.ndim"
   ]
  },
  {
   "cell_type": "markdown",
   "metadata": {},
   "source": [
    "**[문제 3]** 성별별 키와 몸무게의 평균을 구하시오."
   ]
  },
  {
   "cell_type": "code",
   "execution_count": 5,
   "metadata": {},
   "outputs": [
    {
     "data": {
      "text/html": [
       "<div>\n",
       "<style scoped>\n",
       "    .dataframe tbody tr th:only-of-type {\n",
       "        vertical-align: middle;\n",
       "    }\n",
       "\n",
       "    .dataframe tbody tr th {\n",
       "        vertical-align: top;\n",
       "    }\n",
       "\n",
       "    .dataframe thead th {\n",
       "        text-align: right;\n",
       "    }\n",
       "</style>\n",
       "<table border=\"1\" class=\"dataframe\">\n",
       "  <thead>\n",
       "    <tr style=\"text-align: right;\">\n",
       "      <th></th>\n",
       "      <th>Height</th>\n",
       "      <th>Weight</th>\n",
       "    </tr>\n",
       "    <tr>\n",
       "      <th>Sex</th>\n",
       "      <th></th>\n",
       "      <th></th>\n",
       "    </tr>\n",
       "  </thead>\n",
       "  <tbody>\n",
       "    <tr>\n",
       "      <th>F</th>\n",
       "      <td>157.572881</td>\n",
       "      <td>55.822034</td>\n",
       "    </tr>\n",
       "    <tr>\n",
       "      <th>M</th>\n",
       "      <td>171.563359</td>\n",
       "      <td>71.377863</td>\n",
       "    </tr>\n",
       "  </tbody>\n",
       "</table>\n",
       "</div>"
      ],
      "text/plain": [
       "         Height     Weight\n",
       "Sex                       \n",
       "F    157.572881  55.822034\n",
       "M    171.563359  71.377863"
      ]
     },
     "execution_count": 5,
     "metadata": {},
     "output_type": "execute_result"
    }
   ],
   "source": [
    "dat1.groupby(\"Sex\")[[\"Height\",\"Weight\"]].mean()"
   ]
  },
  {
   "cell_type": "markdown",
   "metadata": {},
   "source": [
    "**[문제 4]** 변수명 ‘DM’을 ‘당뇨병’ 으로 바꾸시오."
   ]
  },
  {
   "cell_type": "code",
   "execution_count": 6,
   "metadata": {},
   "outputs": [
    {
     "name": "stdout",
     "output_type": "stream",
     "text": [
      "    Sex  Age  Height  Weight  SBP  DBP  Sugar    Fat   Chol 당뇨병\n",
      "0     F   26   156.6    43.7  100   70   83.5  123.0  187.9   N\n",
      "1     M   30   175.5    93.3  120   70   83.6   73.9  145.5   N\n",
      "2     F   22   161.4    61.9  110   70   86.4   56.3  226.0   N\n",
      "3     F   46   164.0    68.0  100   60   86.5  162.3  146.0   N\n",
      "4     M   41   163.6    72.2  100   70   86.7  132.5  164.1   N\n",
      "..   ..  ...     ...     ...  ...  ...    ...    ...    ...  ..\n",
      "185   M   43   175.4    92.4  140   80  167.1  107.2  227.5   Y\n",
      "186   M   51   164.9    61.6  110   70  171.7  133.4  181.4   Y\n",
      "187   M   31   170.8    79.3  120   80  205.9  116.1  176.9   Y\n",
      "188   M   47   169.9    62.3  130   90  224.0   62.7  212.2   Y\n",
      "189   F   62   159.7    69.3  130   90  334.6   90.5  188.4   Y\n",
      "\n",
      "[190 rows x 10 columns]\n"
     ]
    }
   ],
   "source": [
    "dat1.rename(columns={\"DM\":\"당뇨병\"}, inplace = True)\n",
    "print(dat1)"
   ]
  },
  {
   "cell_type": "markdown",
   "metadata": {},
   "source": [
    "**[문제 5]** 당뇨병 여부에 따라 혈당수치의 평균과 표준편차를 구하시오."
   ]
  },
  {
   "cell_type": "code",
   "execution_count": 7,
   "metadata": {},
   "outputs": [
    {
     "data": {
      "text/html": [
       "<div>\n",
       "<style scoped>\n",
       "    .dataframe tbody tr th:only-of-type {\n",
       "        vertical-align: middle;\n",
       "    }\n",
       "\n",
       "    .dataframe tbody tr th {\n",
       "        vertical-align: top;\n",
       "    }\n",
       "\n",
       "    .dataframe thead tr th {\n",
       "        text-align: left;\n",
       "    }\n",
       "\n",
       "    .dataframe thead tr:last-of-type th {\n",
       "        text-align: right;\n",
       "    }\n",
       "</style>\n",
       "<table border=\"1\" class=\"dataframe\">\n",
       "  <thead>\n",
       "    <tr>\n",
       "      <th></th>\n",
       "      <th colspan=\"2\" halign=\"left\">Sugar</th>\n",
       "    </tr>\n",
       "    <tr>\n",
       "      <th></th>\n",
       "      <th>mean</th>\n",
       "      <th>std</th>\n",
       "    </tr>\n",
       "    <tr>\n",
       "      <th>당뇨병</th>\n",
       "      <th></th>\n",
       "      <th></th>\n",
       "    </tr>\n",
       "  </thead>\n",
       "  <tbody>\n",
       "    <tr>\n",
       "      <th>N</th>\n",
       "      <td>100.169318</td>\n",
       "      <td>9.165979</td>\n",
       "    </tr>\n",
       "    <tr>\n",
       "      <th>Y</th>\n",
       "      <td>171.357143</td>\n",
       "      <td>54.322679</td>\n",
       "    </tr>\n",
       "  </tbody>\n",
       "</table>\n",
       "</div>"
      ],
      "text/plain": [
       "          Sugar           \n",
       "           mean        std\n",
       "당뇨병                       \n",
       "N    100.169318   9.165979\n",
       "Y    171.357143  54.322679"
      ]
     },
     "execution_count": 7,
     "metadata": {},
     "output_type": "execute_result"
    }
   ],
   "source": [
    "dat1.groupby(\"당뇨병\").agg({\"Sugar\": [\"mean\",\"std\"]})"
   ]
  },
  {
   "cell_type": "markdown",
   "metadata": {},
   "source": [
    "**[문제 6]** 키와 몸무게 변수를 이용하여 BMI 변수를 새로 추가하시오."
   ]
  },
  {
   "cell_type": "code",
   "execution_count": 8,
   "metadata": {},
   "outputs": [
    {
     "name": "stdout",
     "output_type": "stream",
     "text": [
      "    Sex  Age  Height  Weight  SBP  DBP  Sugar    Fat   Chol 당뇨병        BMI\n",
      "0     F   26   156.6    43.7  100   70   83.5  123.0  187.9   N  17.819599\n",
      "1     M   30   175.5    93.3  120   70   83.6   73.9  145.5   N  30.291962\n",
      "2     F   22   161.4    61.9  110   70   86.4   56.3  226.0   N  23.762033\n",
      "3     F   46   164.0    68.0  100   60   86.5  162.3  146.0   N  25.282570\n",
      "4     M   41   163.6    72.2  100   70   86.7  132.5  164.1   N  26.975568\n",
      "..   ..  ...     ...     ...  ...  ...    ...    ...    ...  ..        ...\n",
      "185   M   43   175.4    92.4  140   80  167.1  107.2  227.5   Y  30.033973\n",
      "186   M   51   164.9    61.6  110   70  171.7  133.4  181.4   Y  22.653713\n",
      "187   M   31   170.8    79.3  120   80  205.9  116.1  176.9   Y  27.183004\n",
      "188   M   47   169.9    62.3  130   90  224.0   62.7  212.2   Y  21.582477\n",
      "189   F   62   159.7    69.3  130   90  334.6   90.5  188.4   Y  27.172112\n",
      "\n",
      "[190 rows x 11 columns]\n"
     ]
    }
   ],
   "source": [
    "dat1[\"BMI\"] = dat1[\"Weight\"] / (dat1[\"Height\"] * 0.01 * dat1[\"Height\"] * 0.01 )\n",
    "print(dat1)"
   ]
  },
  {
   "cell_type": "markdown",
   "metadata": {},
   "source": [
    "**[문제 7]** 당뇨병 여부에 따라 BMI의 평균을 구하시오."
   ]
  },
  {
   "cell_type": "code",
   "execution_count": 9,
   "metadata": {},
   "outputs": [
    {
     "data": {
      "text/html": [
       "<div>\n",
       "<style scoped>\n",
       "    .dataframe tbody tr th:only-of-type {\n",
       "        vertical-align: middle;\n",
       "    }\n",
       "\n",
       "    .dataframe tbody tr th {\n",
       "        vertical-align: top;\n",
       "    }\n",
       "\n",
       "    .dataframe thead th {\n",
       "        text-align: right;\n",
       "    }\n",
       "</style>\n",
       "<table border=\"1\" class=\"dataframe\">\n",
       "  <thead>\n",
       "    <tr style=\"text-align: right;\">\n",
       "      <th></th>\n",
       "      <th>BMI</th>\n",
       "    </tr>\n",
       "    <tr>\n",
       "      <th>당뇨병</th>\n",
       "      <th></th>\n",
       "    </tr>\n",
       "  </thead>\n",
       "  <tbody>\n",
       "    <tr>\n",
       "      <th>N</th>\n",
       "      <td>23.625756</td>\n",
       "    </tr>\n",
       "    <tr>\n",
       "      <th>Y</th>\n",
       "      <td>24.215927</td>\n",
       "    </tr>\n",
       "  </tbody>\n",
       "</table>\n",
       "</div>"
      ],
      "text/plain": [
       "           BMI\n",
       "당뇨병           \n",
       "N    23.625756\n",
       "Y    24.215927"
      ]
     },
     "execution_count": 9,
     "metadata": {},
     "output_type": "execute_result"
    }
   ],
   "source": [
    "dat1.groupby(\"당뇨병\")[[\"BMI\"]].mean()"
   ]
  },
  {
   "cell_type": "markdown",
   "metadata": {},
   "source": [
    "**[문제 8]** 수축기 혈압과 이완기 혈압을 그림으로 나타내시오.\n",
    "\n",
    "**수축기 혈압**"
   ]
  },
  {
   "cell_type": "code",
   "execution_count": 10,
   "metadata": {},
   "outputs": [
    {
     "data": {
      "text/plain": [
       "<AxesSubplot:ylabel='Frequency'>"
      ]
     },
     "execution_count": 10,
     "metadata": {},
     "output_type": "execute_result"
    },
    {
     "data": {
      "image/png": "[encoded data removed]",
      "text/plain": [
       "<Figure size 432x288 with 1 Axes>"
      ]
     },
     "metadata": {
      "needs_background": "light"
     },
     "output_type": "display_data"
    }
   ],
   "source": [
    "dat1[\"SBP\"].plot(kind = \"hist\")"
   ]
  },
  {
   "cell_type": "markdown",
   "metadata": {},
   "source": [
    "**이완기 혈압**"
   ]
  },
  {
   "cell_type": "code",
   "execution_count": 11,
   "metadata": {},
   "outputs": [
    {
     "data": {
      "text/plain": [
       "<AxesSubplot:ylabel='Frequency'>"
      ]
     },
     "execution_count": 11,
     "metadata": {},
     "output_type": "execute_result"
    },
    {
     "data": {
      "image/png": "[encoded data removed]",
      "text/plain": [
       "<Figure size 432x288 with 1 Axes>"
      ]
     },
     "metadata": {
      "needs_background": "light"
     },
     "output_type": "display_data"
    }
   ],
   "source": [
    "dat1[\"DBP\"].plot(kind = \"hist\")"
   ]
  }
 ],
 "metadata": {
  "kernelspec": {
   "display_name": "Python 3",
   "language": "python",
   "name": "python3"
  },
  "language_info": {
   "codemirror_mode": {
    "name": "ipython",
    "version": 3
   },
   "file_extension": ".py",
   "mimetype": "text/x-python",
   "name": "python",
   "nbconvert_exporter": "python",
   "pygments_lexer": "ipython3",
   "version": "3.8.5"
  }
 },
 "nbformat": 4,
 "nbformat_minor": 4
}
